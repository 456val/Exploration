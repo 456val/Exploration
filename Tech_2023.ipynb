{
 "cells": [
  {
   "cell_type": "markdown",
   "id": "a375f524-ceed-4b45-9aaf-4af755d082b6",
   "metadata": {},
   "source": [
    "<center><b><span style='font-size:26px'>Tech Tectonics: Unraveling the Growth and Transformations of Tech Industry Pioneers (2020-2023)</span></b></center>\n"
   ]
  },
  {
   "cell_type": "markdown",
   "id": "57689b59-afc9-4d7a-aa0b-c8608d4ff75b",
   "metadata": {},
   "source": [
    "<center><b><span style='font-size:26px'>Tech Tectonics: Unraveling the Growth and Transformations of Tech Industry Pioneers (2020-2023)</span></b></center>\n"
   ]
  },
  {
   "cell_type": "markdown",
   "id": "a6372aea-665f-4cc7-960b-9b5d2f79bf02",
   "metadata": {},
   "source": [
    "<span style='font-size:20px;'>**Objectives:** Identify the growths and transformations of top ranked tech companies within a span of four years[20220-2023]</span>\n"
   ]
  },
  {
   "cell_type": "markdown",
   "id": "bd89ad4c-a2cd-4f39-8c80-a852ca39d22e",
   "metadata": {},
   "source": [
    "<span style='font-size:20px;'>**Techniques:** Web Scraping for Data collection, Data Visualization and Data Analysis</span>"
   ]
  },
  {
   "cell_type": "markdown",
   "id": "49475590-307b-4742-a0a1-b153861935f0",
   "metadata": {},
   "source": [
    "<span style='font-size:20px;'>**Sources:** Wikipedia</span>"
   ]
  },
  {
   "cell_type": "markdown",
   "id": "825671c2-e183-432a-a001-e1aee16877d4",
   "metadata": {},
   "source": [
    "<span style='font-size:20px;'>**2023 Rank List:**</span>"
   ]
  },
  {
   "cell_type": "markdown",
   "id": "ff338553-7c02-485e-b3c1-c6794808086c",
   "metadata": {
    "tags": []
   },
   "source": [
    "<span style='font-size:20px;'>**Step 1: Import Libraries**</span>\n"
   ]
  },
  {
   "cell_type": "code",
   "execution_count": 14,
   "id": "796102d7-c792-4913-9da6-cfbc51dd97ab",
   "metadata": {
    "tags": []
   },
   "outputs": [],
   "source": [
    "from bs4 import BeautifulSoup\n",
    "import requests"
   ]
  },
  {
   "cell_type": "markdown",
   "id": "5f1854ae-0df4-4b96-adf5-c1bf57d69c59",
   "metadata": {},
   "source": [
    "<span style='font-size:20px;'>**Step 2: Get URL Address**</span>\n"
   ]
  },
  {
   "cell_type": "code",
   "execution_count": 15,
   "id": "916689d4-43bf-4f18-b0a3-98b2b3ad46de",
   "metadata": {
    "tags": []
   },
   "outputs": [],
   "source": [
    "url='https://en.wikipedia.org/wiki/List_of_largest_technology_companies_by_revenue'\n",
    "page=requests.get(url)\n",
    "soup=BeautifulSoup(page.text,'html')\n"
   ]
  },
  {
   "cell_type": "markdown",
   "id": "729ac8aa-b9cd-449a-b886-2a685692d121",
   "metadata": {
    "tags": []
   },
   "source": [
    "<span style='font-size:20px;'>**Step 3: Locate the specific table containing the desired list**</span>"
   ]
  },
  {
   "cell_type": "code",
   "execution_count": 16,
   "id": "655d81f7-4ff7-4ad5-99d0-ea16200573bd",
   "metadata": {
    "tags": []
   },
   "outputs": [],
   "source": [
    "table=soup.find_all('table')[1]\n",
    "\n"
   ]
  },
  {
   "cell_type": "markdown",
   "id": "9c737758-adf3-4ab7-8026-b74b860a8163",
   "metadata": {},
   "source": [
    "<span style='font-size:20px;'>**Step 4: Extract the table column headers**</span>\n",
    "\n",
    "\n"
   ]
  },
  {
   "cell_type": "code",
   "execution_count": 17,
   "id": "30fcb19c-53b0-4b6e-8bc8-98777daaf794",
   "metadata": {
    "tags": []
   },
   "outputs": [],
   "source": [
    "table_columns=table.find_all('th')\n",
    "#print(table_columns)\n",
    "\n"
   ]
  },
  {
   "cell_type": "markdown",
   "id": "0383a818-21e3-4279-9773-4107e04e5f1e",
   "metadata": {},
   "source": [
    "<span style='font-size:20px;'>**Step 4b : Extract and clean the table column headers**</span>"
   ]
  },
  {
   "cell_type": "code",
   "execution_count": 18,
   "id": "cafb6a80-f7e2-435b-a0a5-36acc1f3b789",
   "metadata": {
    "tags": []
   },
   "outputs": [],
   "source": [
    "table_list=[col.text.strip() for col in table_columns]\n",
    "#print(table_list)\n",
    "\n"
   ]
  },
  {
   "cell_type": "markdown",
   "id": "23feb75c-d82e-4f2e-aa20-7875229ac2ca",
   "metadata": {},
   "source": [
    "<span style='font-size:20px;'>**Step 5: Find all rows within the table** </span>\n"
   ]
  },
  {
   "cell_type": "code",
   "execution_count": 19,
   "id": "132535f6-b103-43da-9208-ceeb23fda771",
   "metadata": {
    "tags": []
   },
   "outputs": [],
   "source": [
    "find_row=table.find_all('tr')\n"
   ]
  },
  {
   "cell_type": "markdown",
   "id": "28f90ba2-d6c0-4793-9cbd-b1fc716a7fb3",
   "metadata": {
    "tags": []
   },
   "source": [
    "<span style='font-size:20px;'>**Step 6: Extract and clean the data from the table rows, and create a DataFrame**</span>"
   ]
  },
  {
   "cell_type": "code",
   "execution_count": 20,
   "id": "3a4635a8-e0fc-4fa4-b354-114faf671358",
   "metadata": {
    "tags": []
   },
   "outputs": [],
   "source": [
    "import pandas as pd\n",
    "\n",
    "# Define an empty list to store row data\n",
    "data_rows = []\n",
    "\n",
    "# Initialize a variable to hold the number of columns\n",
    "num_columns = 0\n",
    "\n",
    "# Assuming the second column contains country logos\n",
    "for row in find_row:\n",
    "    row_data = row.find_all('td')\n",
    "\n",
    "    # Skip the second column (index 1) if it contains logos\n",
    "    individual_row_data = [data.text.strip() for idx, data in enumerate(row_data) if idx != 1]\n",
    "\n",
    "    if num_columns == 0:\n",
    "        num_columns = len(individual_row_data)\n",
    "\n",
    "    # Ensure that individual_row_data has the same number of columns\n",
    "    individual_row_data = individual_row_data[:num_columns]\n",
    "\n",
    "    # Append the data to the list\n",
    "    data_rows.append(individual_row_data)\n",
    "custom_column_names = [\"Rank\", \"Company\", \"Revenue[USD $Billions]\", \"Employee\", \"Revenue per Employee\", \"Headquarters\"] \n",
    "\n",
    "\n",
    "# Convert the list of data to a DataFrame with custom column names\n",
    "df = pd.DataFrame(data_rows, columns=custom_column_names)\n",
    "\n",
    "# Reset the index of the final DataFrame\n",
    "df.reset_index(drop=True, inplace=True)\n"
   ]
  },
  {
   "cell_type": "markdown",
   "id": "605d8de2-5bd5-498b-b54f-d76999677c1b",
   "metadata": {},
   "source": [
    "<span style='font-size:20px;'>**Step 6b: Display The DataFrame**</span>"
   ]
  },
  {
   "cell_type": "code",
   "execution_count": 21,
   "id": "4b19366a-b679-4dc0-895e-0560ade1697f",
   "metadata": {
    "tags": []
   },
   "outputs": [
    {
     "data": {
      "text/html": [
       "<div>\n",
       "<style scoped>\n",
       "    .dataframe tbody tr th:only-of-type {\n",
       "        vertical-align: middle;\n",
       "    }\n",
       "\n",
       "    .dataframe tbody tr th {\n",
       "        vertical-align: top;\n",
       "    }\n",
       "\n",
       "    .dataframe thead th {\n",
       "        text-align: right;\n",
       "    }\n",
       "</style>\n",
       "<table border=\"1\" class=\"dataframe\">\n",
       "  <thead>\n",
       "    <tr style=\"text-align: right;\">\n",
       "      <th></th>\n",
       "      <th>Rank</th>\n",
       "      <th>Company</th>\n",
       "      <th>Revenue[USD $Billions]</th>\n",
       "      <th>Employee</th>\n",
       "      <th>Revenue per Employee</th>\n",
       "      <th>Headquarters</th>\n",
       "    </tr>\n",
       "  </thead>\n",
       "  <tbody>\n",
       "    <tr>\n",
       "      <th>0</th>\n",
       "      <td>None</td>\n",
       "      <td>None</td>\n",
       "      <td>None</td>\n",
       "      <td>None</td>\n",
       "      <td>None</td>\n",
       "      <td>None</td>\n",
       "    </tr>\n",
       "    <tr>\n",
       "      <th>1</th>\n",
       "      <td>1</td>\n",
       "      <td>Apple</td>\n",
       "      <td>$383.93</td>\n",
       "      <td>147,000</td>\n",
       "      <td>1867.44897</td>\n",
       "      <td>Cupertino, California, US</td>\n",
       "    </tr>\n",
       "    <tr>\n",
       "      <th>2</th>\n",
       "      <td>2</td>\n",
       "      <td>Samsung Electronics</td>\n",
       "      <td>$200.734</td>\n",
       "      <td>267,937</td>\n",
       "      <td>749.18357</td>\n",
       "      <td>Suwon, South Korea</td>\n",
       "    </tr>\n",
       "    <tr>\n",
       "      <th>3</th>\n",
       "      <td>3</td>\n",
       "      <td>Alphabet</td>\n",
       "      <td>$182.527</td>\n",
       "      <td>135,301</td>\n",
       "      <td>1349.04398</td>\n",
       "      <td>Mountain View, California, US</td>\n",
       "    </tr>\n",
       "    <tr>\n",
       "      <th>4</th>\n",
       "      <td>4</td>\n",
       "      <td>Foxconn</td>\n",
       "      <td>$181.945</td>\n",
       "      <td>878,429</td>\n",
       "      <td>207.12544</td>\n",
       "      <td>New Taipei City, Taiwan</td>\n",
       "    </tr>\n",
       "    <tr>\n",
       "      <th>5</th>\n",
       "      <td>5</td>\n",
       "      <td>Microsoft</td>\n",
       "      <td>$143.015</td>\n",
       "      <td>163,000</td>\n",
       "      <td>877.39263</td>\n",
       "      <td>Redmond, Washington, US</td>\n",
       "    </tr>\n",
       "    <tr>\n",
       "      <th>6</th>\n",
       "      <td>6</td>\n",
       "      <td>Huawei</td>\n",
       "      <td>$129.184</td>\n",
       "      <td>197,000</td>\n",
       "      <td>655.75634</td>\n",
       "      <td>Shenzhen, China</td>\n",
       "    </tr>\n",
       "    <tr>\n",
       "      <th>7</th>\n",
       "      <td>7</td>\n",
       "      <td>Dell Technologies</td>\n",
       "      <td>$92.224</td>\n",
       "      <td>158,000</td>\n",
       "      <td>583.6962</td>\n",
       "      <td>Round Rock, Texas, US</td>\n",
       "    </tr>\n",
       "    <tr>\n",
       "      <th>8</th>\n",
       "      <td>8</td>\n",
       "      <td>Meta</td>\n",
       "      <td>$85.965</td>\n",
       "      <td>58,604</td>\n",
       "      <td>1466.87939</td>\n",
       "      <td>Menlo Park, California, US</td>\n",
       "    </tr>\n",
       "    <tr>\n",
       "      <th>9</th>\n",
       "      <td>9</td>\n",
       "      <td>Sony</td>\n",
       "      <td>$84.893</td>\n",
       "      <td>109,700</td>\n",
       "      <td>773.86508</td>\n",
       "      <td>Tokyo, Japan</td>\n",
       "    </tr>\n",
       "    <tr>\n",
       "      <th>10</th>\n",
       "      <td>10</td>\n",
       "      <td>Hitachi</td>\n",
       "      <td>$82.345</td>\n",
       "      <td>350,864</td>\n",
       "      <td>234.69207</td>\n",
       "      <td>Tokyo, Japan</td>\n",
       "    </tr>\n",
       "    <tr>\n",
       "      <th>11</th>\n",
       "      <td>11</td>\n",
       "      <td>Intel</td>\n",
       "      <td>$77.867</td>\n",
       "      <td>110,600</td>\n",
       "      <td>704.04159</td>\n",
       "      <td>Santa Clara, California, US</td>\n",
       "    </tr>\n",
       "    <tr>\n",
       "      <th>12</th>\n",
       "      <td>12</td>\n",
       "      <td>IBM</td>\n",
       "      <td>$73.620</td>\n",
       "      <td>364,800</td>\n",
       "      <td>201.80921</td>\n",
       "      <td>Armonk, New York, US</td>\n",
       "    </tr>\n",
       "    <tr>\n",
       "      <th>13</th>\n",
       "      <td>13</td>\n",
       "      <td>Tencent</td>\n",
       "      <td>$69.864</td>\n",
       "      <td>85,858</td>\n",
       "      <td>813.71567</td>\n",
       "      <td>Shenzhen, China</td>\n",
       "    </tr>\n",
       "    <tr>\n",
       "      <th>14</th>\n",
       "      <td>14</td>\n",
       "      <td>Panasonic</td>\n",
       "      <td>$63.191</td>\n",
       "      <td>243,540</td>\n",
       "      <td>259.46867</td>\n",
       "      <td>Osaka, Japan</td>\n",
       "    </tr>\n",
       "    <tr>\n",
       "      <th>15</th>\n",
       "      <td>15</td>\n",
       "      <td>Lenovo</td>\n",
       "      <td>$60.742</td>\n",
       "      <td>71,500</td>\n",
       "      <td>849.53846</td>\n",
       "      <td>Hong Kong, China[4]</td>\n",
       "    </tr>\n",
       "    <tr>\n",
       "      <th>16</th>\n",
       "      <td>16</td>\n",
       "      <td>HP Inc.</td>\n",
       "      <td>$56.639</td>\n",
       "      <td>53,000</td>\n",
       "      <td>1068.66037</td>\n",
       "      <td>Palo Alto, California, US</td>\n",
       "    </tr>\n",
       "    <tr>\n",
       "      <th>17</th>\n",
       "      <td>17</td>\n",
       "      <td>LG Electronics</td>\n",
       "      <td>$53.625</td>\n",
       "      <td>75,000</td>\n",
       "      <td>715.00000</td>\n",
       "      <td>Seoul, South Korea</td>\n",
       "    </tr>\n",
       "  </tbody>\n",
       "</table>\n",
       "</div>"
      ],
      "text/plain": [
       "    Rank              Company Revenue[USD $Billions] Employee  \\\n",
       "0   None                 None                   None     None   \n",
       "1      1                Apple                $383.93  147,000   \n",
       "2      2  Samsung Electronics               $200.734  267,937   \n",
       "3      3             Alphabet               $182.527  135,301   \n",
       "4      4              Foxconn               $181.945  878,429   \n",
       "5      5            Microsoft               $143.015  163,000   \n",
       "6      6               Huawei               $129.184  197,000   \n",
       "7      7    Dell Technologies                $92.224  158,000   \n",
       "8      8                 Meta                $85.965   58,604   \n",
       "9      9                 Sony                $84.893  109,700   \n",
       "10    10              Hitachi                $82.345  350,864   \n",
       "11    11                Intel                $77.867  110,600   \n",
       "12    12                  IBM                $73.620  364,800   \n",
       "13    13              Tencent                $69.864   85,858   \n",
       "14    14            Panasonic                $63.191  243,540   \n",
       "15    15               Lenovo                $60.742   71,500   \n",
       "16    16              HP Inc.                $56.639   53,000   \n",
       "17    17       LG Electronics                $53.625   75,000   \n",
       "\n",
       "   Revenue per Employee                   Headquarters  \n",
       "0                  None                           None  \n",
       "1            1867.44897      Cupertino, California, US  \n",
       "2             749.18357             Suwon, South Korea  \n",
       "3            1349.04398  Mountain View, California, US  \n",
       "4             207.12544        New Taipei City, Taiwan  \n",
       "5             877.39263        Redmond, Washington, US  \n",
       "6             655.75634                Shenzhen, China  \n",
       "7              583.6962          Round Rock, Texas, US  \n",
       "8            1466.87939     Menlo Park, California, US  \n",
       "9             773.86508                   Tokyo, Japan  \n",
       "10            234.69207                   Tokyo, Japan  \n",
       "11            704.04159    Santa Clara, California, US  \n",
       "12            201.80921           Armonk, New York, US  \n",
       "13            813.71567                Shenzhen, China  \n",
       "14            259.46867                   Osaka, Japan  \n",
       "15            849.53846            Hong Kong, China[4]  \n",
       "16           1068.66037      Palo Alto, California, US  \n",
       "17            715.00000             Seoul, South Korea  "
      ]
     },
     "execution_count": 21,
     "metadata": {},
     "output_type": "execute_result"
    }
   ],
   "source": [
    "df"
   ]
  },
  {
   "cell_type": "markdown",
   "id": "9ce33ce2-2b96-43f7-8460-10038fc45174",
   "metadata": {},
   "source": [
    "<span style='font-size:20px;'>**Step 6C: Remove the first row from the DataFrame**</span>\n"
   ]
  },
  {
   "cell_type": "code",
   "execution_count": 22,
   "id": "784272ba-8b69-4d3f-a58a-7d59409e2027",
   "metadata": {
    "tags": []
   },
   "outputs": [],
   "source": [
    "df.drop(0, axis=0, inplace=True)"
   ]
  },
  {
   "cell_type": "markdown",
   "id": "7eb079e2-51ca-4141-b4e8-c24718a124a2",
   "metadata": {},
   "source": [
    "<span style='font-size:20px;'>**Step 6D: Display The DataFrame**</span>\n"
   ]
  },
  {
   "cell_type": "code",
   "execution_count": 23,
   "id": "2a9c8e91-397a-4563-9628-d974725b501f",
   "metadata": {
    "tags": []
   },
   "outputs": [
    {
     "data": {
      "text/html": [
       "<div>\n",
       "<style scoped>\n",
       "    .dataframe tbody tr th:only-of-type {\n",
       "        vertical-align: middle;\n",
       "    }\n",
       "\n",
       "    .dataframe tbody tr th {\n",
       "        vertical-align: top;\n",
       "    }\n",
       "\n",
       "    .dataframe thead th {\n",
       "        text-align: right;\n",
       "    }\n",
       "</style>\n",
       "<table border=\"1\" class=\"dataframe\">\n",
       "  <thead>\n",
       "    <tr style=\"text-align: right;\">\n",
       "      <th></th>\n",
       "      <th>Rank</th>\n",
       "      <th>Company</th>\n",
       "      <th>Revenue[USD $Billions]</th>\n",
       "      <th>Employee</th>\n",
       "      <th>Revenue per Employee</th>\n",
       "      <th>Headquarters</th>\n",
       "    </tr>\n",
       "  </thead>\n",
       "  <tbody>\n",
       "    <tr>\n",
       "      <th>1</th>\n",
       "      <td>1</td>\n",
       "      <td>Apple</td>\n",
       "      <td>$383.93</td>\n",
       "      <td>147,000</td>\n",
       "      <td>1867.44897</td>\n",
       "      <td>Cupertino, California, US</td>\n",
       "    </tr>\n",
       "    <tr>\n",
       "      <th>2</th>\n",
       "      <td>2</td>\n",
       "      <td>Samsung Electronics</td>\n",
       "      <td>$200.734</td>\n",
       "      <td>267,937</td>\n",
       "      <td>749.18357</td>\n",
       "      <td>Suwon, South Korea</td>\n",
       "    </tr>\n",
       "    <tr>\n",
       "      <th>3</th>\n",
       "      <td>3</td>\n",
       "      <td>Alphabet</td>\n",
       "      <td>$182.527</td>\n",
       "      <td>135,301</td>\n",
       "      <td>1349.04398</td>\n",
       "      <td>Mountain View, California, US</td>\n",
       "    </tr>\n",
       "    <tr>\n",
       "      <th>4</th>\n",
       "      <td>4</td>\n",
       "      <td>Foxconn</td>\n",
       "      <td>$181.945</td>\n",
       "      <td>878,429</td>\n",
       "      <td>207.12544</td>\n",
       "      <td>New Taipei City, Taiwan</td>\n",
       "    </tr>\n",
       "    <tr>\n",
       "      <th>5</th>\n",
       "      <td>5</td>\n",
       "      <td>Microsoft</td>\n",
       "      <td>$143.015</td>\n",
       "      <td>163,000</td>\n",
       "      <td>877.39263</td>\n",
       "      <td>Redmond, Washington, US</td>\n",
       "    </tr>\n",
       "    <tr>\n",
       "      <th>6</th>\n",
       "      <td>6</td>\n",
       "      <td>Huawei</td>\n",
       "      <td>$129.184</td>\n",
       "      <td>197,000</td>\n",
       "      <td>655.75634</td>\n",
       "      <td>Shenzhen, China</td>\n",
       "    </tr>\n",
       "    <tr>\n",
       "      <th>7</th>\n",
       "      <td>7</td>\n",
       "      <td>Dell Technologies</td>\n",
       "      <td>$92.224</td>\n",
       "      <td>158,000</td>\n",
       "      <td>583.6962</td>\n",
       "      <td>Round Rock, Texas, US</td>\n",
       "    </tr>\n",
       "    <tr>\n",
       "      <th>8</th>\n",
       "      <td>8</td>\n",
       "      <td>Meta</td>\n",
       "      <td>$85.965</td>\n",
       "      <td>58,604</td>\n",
       "      <td>1466.87939</td>\n",
       "      <td>Menlo Park, California, US</td>\n",
       "    </tr>\n",
       "    <tr>\n",
       "      <th>9</th>\n",
       "      <td>9</td>\n",
       "      <td>Sony</td>\n",
       "      <td>$84.893</td>\n",
       "      <td>109,700</td>\n",
       "      <td>773.86508</td>\n",
       "      <td>Tokyo, Japan</td>\n",
       "    </tr>\n",
       "    <tr>\n",
       "      <th>10</th>\n",
       "      <td>10</td>\n",
       "      <td>Hitachi</td>\n",
       "      <td>$82.345</td>\n",
       "      <td>350,864</td>\n",
       "      <td>234.69207</td>\n",
       "      <td>Tokyo, Japan</td>\n",
       "    </tr>\n",
       "    <tr>\n",
       "      <th>11</th>\n",
       "      <td>11</td>\n",
       "      <td>Intel</td>\n",
       "      <td>$77.867</td>\n",
       "      <td>110,600</td>\n",
       "      <td>704.04159</td>\n",
       "      <td>Santa Clara, California, US</td>\n",
       "    </tr>\n",
       "    <tr>\n",
       "      <th>12</th>\n",
       "      <td>12</td>\n",
       "      <td>IBM</td>\n",
       "      <td>$73.620</td>\n",
       "      <td>364,800</td>\n",
       "      <td>201.80921</td>\n",
       "      <td>Armonk, New York, US</td>\n",
       "    </tr>\n",
       "    <tr>\n",
       "      <th>13</th>\n",
       "      <td>13</td>\n",
       "      <td>Tencent</td>\n",
       "      <td>$69.864</td>\n",
       "      <td>85,858</td>\n",
       "      <td>813.71567</td>\n",
       "      <td>Shenzhen, China</td>\n",
       "    </tr>\n",
       "    <tr>\n",
       "      <th>14</th>\n",
       "      <td>14</td>\n",
       "      <td>Panasonic</td>\n",
       "      <td>$63.191</td>\n",
       "      <td>243,540</td>\n",
       "      <td>259.46867</td>\n",
       "      <td>Osaka, Japan</td>\n",
       "    </tr>\n",
       "    <tr>\n",
       "      <th>15</th>\n",
       "      <td>15</td>\n",
       "      <td>Lenovo</td>\n",
       "      <td>$60.742</td>\n",
       "      <td>71,500</td>\n",
       "      <td>849.53846</td>\n",
       "      <td>Hong Kong, China[4]</td>\n",
       "    </tr>\n",
       "    <tr>\n",
       "      <th>16</th>\n",
       "      <td>16</td>\n",
       "      <td>HP Inc.</td>\n",
       "      <td>$56.639</td>\n",
       "      <td>53,000</td>\n",
       "      <td>1068.66037</td>\n",
       "      <td>Palo Alto, California, US</td>\n",
       "    </tr>\n",
       "    <tr>\n",
       "      <th>17</th>\n",
       "      <td>17</td>\n",
       "      <td>LG Electronics</td>\n",
       "      <td>$53.625</td>\n",
       "      <td>75,000</td>\n",
       "      <td>715.00000</td>\n",
       "      <td>Seoul, South Korea</td>\n",
       "    </tr>\n",
       "  </tbody>\n",
       "</table>\n",
       "</div>"
      ],
      "text/plain": [
       "   Rank              Company Revenue[USD $Billions] Employee  \\\n",
       "1     1                Apple                $383.93  147,000   \n",
       "2     2  Samsung Electronics               $200.734  267,937   \n",
       "3     3             Alphabet               $182.527  135,301   \n",
       "4     4              Foxconn               $181.945  878,429   \n",
       "5     5            Microsoft               $143.015  163,000   \n",
       "6     6               Huawei               $129.184  197,000   \n",
       "7     7    Dell Technologies                $92.224  158,000   \n",
       "8     8                 Meta                $85.965   58,604   \n",
       "9     9                 Sony                $84.893  109,700   \n",
       "10   10              Hitachi                $82.345  350,864   \n",
       "11   11                Intel                $77.867  110,600   \n",
       "12   12                  IBM                $73.620  364,800   \n",
       "13   13              Tencent                $69.864   85,858   \n",
       "14   14            Panasonic                $63.191  243,540   \n",
       "15   15               Lenovo                $60.742   71,500   \n",
       "16   16              HP Inc.                $56.639   53,000   \n",
       "17   17       LG Electronics                $53.625   75,000   \n",
       "\n",
       "   Revenue per Employee                   Headquarters  \n",
       "1            1867.44897      Cupertino, California, US  \n",
       "2             749.18357             Suwon, South Korea  \n",
       "3            1349.04398  Mountain View, California, US  \n",
       "4             207.12544        New Taipei City, Taiwan  \n",
       "5             877.39263        Redmond, Washington, US  \n",
       "6             655.75634                Shenzhen, China  \n",
       "7              583.6962          Round Rock, Texas, US  \n",
       "8            1466.87939     Menlo Park, California, US  \n",
       "9             773.86508                   Tokyo, Japan  \n",
       "10            234.69207                   Tokyo, Japan  \n",
       "11            704.04159    Santa Clara, California, US  \n",
       "12            201.80921           Armonk, New York, US  \n",
       "13            813.71567                Shenzhen, China  \n",
       "14            259.46867                   Osaka, Japan  \n",
       "15            849.53846            Hong Kong, China[4]  \n",
       "16           1068.66037      Palo Alto, California, US  \n",
       "17            715.00000             Seoul, South Korea  "
      ]
     },
     "execution_count": 23,
     "metadata": {},
     "output_type": "execute_result"
    }
   ],
   "source": [
    "df"
   ]
  },
  {
   "cell_type": "markdown",
   "id": "4ca1b796-9867-4ef4-9a79-54b99a9945c7",
   "metadata": {
    "tags": []
   },
   "source": [
    "<span style='font-size:20px;'>**Step 7: Save The DataFrame To a CSV_file** </span>"
   ]
  },
  {
   "cell_type": "code",
   "execution_count": 24,
   "id": "7a904337-3015-4734-9759-0450a743ff23",
   "metadata": {
    "tags": []
   },
   "outputs": [],
   "source": [
    "df.to_csv(\"2023_Ranking_Tech.csv\", index=False)"
   ]
  },
  {
   "cell_type": "markdown",
   "id": "c869bb6a-bd68-480c-96f3-f2fead44b855",
   "metadata": {},
   "source": [
    "<span style='font-size:20px;'>**Step 8: Data Visualization**</span>"
   ]
  },
  {
   "cell_type": "code",
   "execution_count": 25,
   "id": "ff9eadd3-be95-4195-8dd2-930e6b6cebce",
   "metadata": {},
   "outputs": [
    {
     "data": {
      "image/png": "[encoded data removed]",
      "text/plain": [
       "<Figure size 1600x1000 with 1 Axes>"
      ]
     },
     "metadata": {},
     "output_type": "display_data"
    }
   ],
   "source": [
    "import matplotlib.pyplot as plt\n",
    "import seaborn as sns\n",
    "\n",
    "# Remove non-numeric characters from the 'Revenue[USD $Billions]' column\n",
    "df['Revenue[USD $Billions]'] = df['Revenue[USD $Billions]'].str.replace('[\\$,]', '', regex=True).astype(float)\n",
    "\n",
    "# Set the style of the plot\n",
    "sns.set(style=\"whitegrid\")\n",
    "\n",
    "# Set the figure size\n",
    "plt.figure(figsize=(16, 10))\n",
    "\n",
    "# Create a horizontal bar plot\n",
    "sns.barplot(x='Revenue[USD $Billions]', y='Company', data=df, palette=\"viridis\")\n",
    "\n",
    "# Customize labels and title\n",
    "plt.xlabel('Revenue (in USD Billions)')\n",
    "plt.ylabel('Company')\n",
    "plt.title('Tech Companies Rank List')\n",
    "\n",
    "# Show the horizontal bar chart\n",
    "plt.show()\n"
   ]
  },
  {
   "cell_type": "code",
   "execution_count": null,
   "id": "e1cd73ec-b5c6-4274-984e-a098a6a66c10",
   "metadata": {},
   "outputs": [],
   "source": []
  }
 ],
 "metadata": {
  "kernelspec": {
   "display_name": "Python 3 (ipykernel)",
   "language": "python",
   "name": "python3"
  },
  "language_info": {
   "codemirror_mode": {
    "name": "ipython",
    "version": 3
   },
   "file_extension": ".py",
   "mimetype": "text/x-python",
   "name": "python",
   "nbconvert_exporter": "python",
   "pygments_lexer": "ipython3",
   "version": "3.11.4"
  }
 },
 "nbformat": 4,
 "nbformat_minor": 5
}
