{
 "cells": [
  {
   "cell_type": "markdown",
   "id": "ffac9a5f-b659-490a-8312-bfad8adc663c",
   "metadata": {},
   "source": []
  },
  {
   "cell_type": "markdown",
   "id": "0ffba19b-21ab-49e5-a735-8b4cd9ffa110",
   "metadata": {},
   "source": [
    "<span style='font-size:20px;'>**Objectives:** Identify the growths and transformations of top ranked tech companies within a span of four years[2020-2023]</span>"
   ]
  },
  {
   "cell_type": "markdown",
   "id": "bcfe2148-9917-4b80-829e-0bb3f3c43cc1",
   "metadata": {},
   "source": [
    "<span style='font-size:20px;'>**Techniques:** Web Scraping for Data collection, Data Visualization and Data Analysis</span>"
   ]
  },
  {
   "cell_type": "markdown",
   "id": "9ff6c6d0-6f3b-4fd3-993d-ab6887270dcd",
   "metadata": {},
   "source": [
    "<span style='font-size:20px;'>**Sources**: Wikipedia</span>"
   ]
  },
  {
   "cell_type": "markdown",
   "id": "682aa6a4-a45e-4ade-95e6-8403a2508a5f",
   "metadata": {},
   "source": [
    "<span style='font-size:20px;'>**2020 Rank List:**</span>"
   ]
  },
  {
   "cell_type": "markdown",
   "id": "961f049a-404a-4e73-bfae-455985a68958",
   "metadata": {},
   "source": [
    "<span style='font-size:20px;'>**Step 1:** Import Libraries</span>"
   ]
  },
  {
   "cell_type": "code",
   "execution_count": 116,
   "id": "58c0bcd9-9689-4c8b-bc04-941f188a8198",
   "metadata": {
    "tags": []
   },
   "outputs": [],
   "source": [
    "from bs4 import BeautifulSoup\n",
    "import requests\n"
   ]
  },
  {
   "cell_type": "markdown",
   "id": "c2f89a77-868b-4977-af6e-7d102c42e127",
   "metadata": {},
   "source": [
    "<span style='font-size:20px;'>**Step 2:** Get Url Address </span>\n"
   ]
  },
  {
   "cell_type": "code",
   "execution_count": 101,
   "id": "ef141388-f023-4394-be44-e0cedff88d6c",
   "metadata": {
    "tags": []
   },
   "outputs": [],
   "source": [
    "#Specift the url address\n",
    "\n",
    "url='https://en.wikipedia.org/wiki/List_of_largest_technology_companies_by_revenue'\n",
    "\n",
    "#Request Data From Http \n",
    "page=requests.get(url) \n",
    "\n",
    "#Convert the requested data to text in html format\n",
    "soup=BeautifulSoup(page.text,'html')\n",
    "\n"
   ]
  },
  {
   "cell_type": "markdown",
   "id": "e2a55a24-ea57-45d9-bab9-42f5068354d1",
   "metadata": {},
   "source": [
    "<span style='font-size:20px;'>**Step 3:** Locate the specific table containing the desired list </span>"
   ]
  },
  {
   "cell_type": "code",
   "execution_count": 104,
   "id": "4a3ba186-b54b-4a0c-a149-aa27302c1603",
   "metadata": {
    "tags": []
   },
   "outputs": [],
   "source": [
    "#find specific table where the list is stsored\n",
    "\n",
    "table=soup.find_all('table')[2]\n",
    "\n"
   ]
  },
  {
   "cell_type": "markdown",
   "id": "a420ef13-6689-4eb8-b568-d3ed94d27c21",
   "metadata": {
    "tags": []
   },
   "source": [
    " <span style='font-size:20px;'>**Step 4A:** Extract the table column headers</span>"
   ]
  },
  {
   "cell_type": "code",
   "execution_count": 105,
   "id": "0851d342-3fcf-495f-9e8b-3598d5dfcf16",
   "metadata": {
    "tags": []
   },
   "outputs": [],
   "source": [
    "table_columns=table.find_all('th')\n",
    "\n",
    "#print(table_columns)\n",
    "\n",
    "\n"
   ]
  },
  {
   "cell_type": "markdown",
   "id": "8b454694-d6f3-4e40-acd8-4fffc8fb8550",
   "metadata": {},
   "source": [
    "<span style='font-size:20px;'>**Step 4B :** Extract and clean the table column headers</span>"
   ]
  },
  {
   "cell_type": "code",
   "execution_count": 106,
   "id": "31aa4a32-f0fa-4668-97c5-622f907fd4b2",
   "metadata": {
    "tags": []
   },
   "outputs": [],
   "source": [
    "table_list=[col.text.strip() for col in table_columns]\n",
    "\n",
    "#print(table_list)\n"
   ]
  },
  {
   "cell_type": "markdown",
   "id": "e329d2c3-5f7b-4f55-99d3-bcc12b876ee1",
   "metadata": {},
   "source": [
    "<span style='font-size:20px;'>**Step 5:** Find all rows within the table </span>"
   ]
  },
  {
   "cell_type": "code",
   "execution_count": 107,
   "id": "9ccd0483-6611-4fd7-b834-b264296a876d",
   "metadata": {
    "tags": []
   },
   "outputs": [],
   "source": [
    "find_row=table.find_all('tr')"
   ]
  },
  {
   "cell_type": "markdown",
   "id": "87be1673-aa80-4c29-99e2-30423e2c59af",
   "metadata": {},
   "source": [
    "<span style='font-size:20px;'>**Step 6A:** Extract and clean the data from the table rows, and create a DataFrame</span>"
   ]
  },
  {
   "cell_type": "code",
   "execution_count": 108,
   "id": "06387c88-a0a2-44e5-b34a-d8178e9e54cf",
   "metadata": {
    "tags": []
   },
   "outputs": [],
   "source": [
    "import pandas as pd\n",
    "\n",
    "# Define an empty list to store row data\n",
    "data_rows = []\n",
    "\n",
    "# Initialize a variable to hold the number of columns\n",
    "num_columns = 0\n",
    "\n",
    "# Assuming the second column contains country logos\n",
    "for row in find_row:\n",
    "    row_data = row.find_all('td')\n",
    "\n",
    "    # Skip the second column (index 1) if it contains logos\n",
    "    individual_row_data = [data.text.strip() for idx, data in enumerate(row_data) if idx != 1]\n",
    "\n",
    "    if num_columns == 0:\n",
    "        num_columns = len(individual_row_data)\n",
    "\n",
    "    # Ensure that individual_row_data has the same number of columns\n",
    "    individual_row_data = individual_row_data[:num_columns]\n",
    "\n",
    "    # Append the data to the list\n",
    "    data_rows.append(individual_row_data)\n",
    "custom_column_names = [\"Rank\", \"Company\", \"Revenue[USD $Billions]\", \"Employee\", \"Revenue per Employee\", \"Headquarters\"] \n",
    "\n",
    "\n",
    "# Convert the list of data to a DataFrame with custom column names\n",
    "df = pd.DataFrame(data_rows, columns=custom_column_names)\n",
    "\n",
    "# Reset the index of the final DataFrame\n",
    "df.reset_index(drop=True, inplace=True)"
   ]
  },
  {
   "cell_type": "markdown",
   "id": "6ff21c7c-4c39-44c8-815c-454f947f87b3",
   "metadata": {},
   "source": [
    "<span style='font-size:20px;'>**Step 6B:** Display The DataFrame </span>"
   ]
  },
  {
   "cell_type": "code",
   "execution_count": 110,
   "id": "21ec3fd2-80db-4a8c-b3ea-de2f0744d70b",
   "metadata": {
    "tags": []
   },
   "outputs": [
    {
     "data": {
      "text/html": [
       "<div>\n",
       "<style scoped>\n",
       "    .dataframe tbody tr th:only-of-type {\n",
       "        vertical-align: middle;\n",
       "    }\n",
       "\n",
       "    .dataframe tbody tr th {\n",
       "        vertical-align: top;\n",
       "    }\n",
       "\n",
       "    .dataframe thead th {\n",
       "        text-align: right;\n",
       "    }\n",
       "</style>\n",
       "<table border=\"1\" class=\"dataframe\">\n",
       "  <thead>\n",
       "    <tr style=\"text-align: right;\">\n",
       "      <th></th>\n",
       "      <th>Rank</th>\n",
       "      <th>Company</th>\n",
       "      <th>Revenue[USD $Billions]</th>\n",
       "      <th>Employee</th>\n",
       "      <th>Revenue per Employee</th>\n",
       "      <th>Headquarters</th>\n",
       "    </tr>\n",
       "  </thead>\n",
       "  <tbody>\n",
       "    <tr>\n",
       "      <th>0</th>\n",
       "      <td>None</td>\n",
       "      <td>None</td>\n",
       "      <td>None</td>\n",
       "      <td>None</td>\n",
       "      <td>None</td>\n",
       "      <td>None</td>\n",
       "    </tr>\n",
       "    <tr>\n",
       "      <th>1</th>\n",
       "      <td>1</td>\n",
       "      <td>Apple</td>\n",
       "      <td>$260.174</td>\n",
       "      <td>137,000</td>\n",
       "      <td>1899.08029</td>\n",
       "      <td>Cupertino, California, US</td>\n",
       "    </tr>\n",
       "    <tr>\n",
       "      <th>2</th>\n",
       "      <td>2</td>\n",
       "      <td>Samsung Electronics</td>\n",
       "      <td>$197.705</td>\n",
       "      <td>287,439</td>\n",
       "      <td>687.8155</td>\n",
       "      <td>Suwon, South Korea</td>\n",
       "    </tr>\n",
       "    <tr>\n",
       "      <th>3</th>\n",
       "      <td>3</td>\n",
       "      <td>Foxconn</td>\n",
       "      <td>$178.869</td>\n",
       "      <td>757,404</td>\n",
       "      <td>236.16062</td>\n",
       "      <td>New Taipei City, Taiwan</td>\n",
       "    </tr>\n",
       "    <tr>\n",
       "      <th>4</th>\n",
       "      <td>4</td>\n",
       "      <td>Alphabet</td>\n",
       "      <td>$161.857</td>\n",
       "      <td>118,899</td>\n",
       "      <td>1361.29824</td>\n",
       "      <td>Mountain View, California, US</td>\n",
       "    </tr>\n",
       "    <tr>\n",
       "      <th>5</th>\n",
       "      <td>5</td>\n",
       "      <td>Microsoft</td>\n",
       "      <td>$125.843</td>\n",
       "      <td>144,000</td>\n",
       "      <td>873.90972</td>\n",
       "      <td>Redmond, Washington, US</td>\n",
       "    </tr>\n",
       "    <tr>\n",
       "      <th>6</th>\n",
       "      <td>6</td>\n",
       "      <td>Huawei</td>\n",
       "      <td>$124.316</td>\n",
       "      <td>194,000</td>\n",
       "      <td>640.80412</td>\n",
       "      <td>Shenzhen, China</td>\n",
       "    </tr>\n",
       "    <tr>\n",
       "      <th>7</th>\n",
       "      <td>7</td>\n",
       "      <td>Dell Technologies</td>\n",
       "      <td>$92.154</td>\n",
       "      <td>165,000</td>\n",
       "      <td>558.50909</td>\n",
       "      <td>Round Rock, Texas, US</td>\n",
       "    </tr>\n",
       "    <tr>\n",
       "      <th>8</th>\n",
       "      <td>8</td>\n",
       "      <td>Hitachi</td>\n",
       "      <td>$80.639</td>\n",
       "      <td>301,056</td>\n",
       "      <td>267.85382</td>\n",
       "      <td>Tokyo, Japan</td>\n",
       "    </tr>\n",
       "    <tr>\n",
       "      <th>9</th>\n",
       "      <td>9</td>\n",
       "      <td>IBM</td>\n",
       "      <td>$77.147</td>\n",
       "      <td>383,056</td>\n",
       "      <td>201.39875</td>\n",
       "      <td>Armonk, New York, US</td>\n",
       "    </tr>\n",
       "    <tr>\n",
       "      <th>10</th>\n",
       "      <td>10</td>\n",
       "      <td>Sony</td>\n",
       "      <td>$75.972</td>\n",
       "      <td>111,700</td>\n",
       "      <td>680.14324</td>\n",
       "      <td>Tokyo, Japan</td>\n",
       "    </tr>\n",
       "    <tr>\n",
       "      <th>11</th>\n",
       "      <td>11</td>\n",
       "      <td>Intel</td>\n",
       "      <td>$71.965</td>\n",
       "      <td>110,800</td>\n",
       "      <td>649.50361</td>\n",
       "      <td>Santa Clara, California, US</td>\n",
       "    </tr>\n",
       "    <tr>\n",
       "      <th>12</th>\n",
       "      <td>12</td>\n",
       "      <td>Facebook</td>\n",
       "      <td>$70.697</td>\n",
       "      <td>44,942</td>\n",
       "      <td>1573.07195</td>\n",
       "      <td>Menlo Park, California, US</td>\n",
       "    </tr>\n",
       "    <tr>\n",
       "      <th>13</th>\n",
       "      <td>13</td>\n",
       "      <td>Panasonic</td>\n",
       "      <td>$68.897</td>\n",
       "      <td>259,385</td>\n",
       "      <td>265.61674</td>\n",
       "      <td>Osaka, Japan</td>\n",
       "    </tr>\n",
       "    <tr>\n",
       "      <th>14</th>\n",
       "      <td>14</td>\n",
       "      <td>HP Inc.</td>\n",
       "      <td>$58.756</td>\n",
       "      <td>56,000</td>\n",
       "      <td>1049.21428</td>\n",
       "      <td>Palo Alto, California, US</td>\n",
       "    </tr>\n",
       "    <tr>\n",
       "      <th>15</th>\n",
       "      <td>15</td>\n",
       "      <td>Tencent</td>\n",
       "      <td>$54.613</td>\n",
       "      <td>62,885</td>\n",
       "      <td>868.45829</td>\n",
       "      <td>Shenzhen, China</td>\n",
       "    </tr>\n",
       "    <tr>\n",
       "      <th>16</th>\n",
       "      <td>16</td>\n",
       "      <td>LG Electronics</td>\n",
       "      <td>$53.464</td>\n",
       "      <td>74,000</td>\n",
       "      <td>722.48648</td>\n",
       "      <td>Seoul, South Korea</td>\n",
       "    </tr>\n",
       "    <tr>\n",
       "      <th>17</th>\n",
       "      <td>17</td>\n",
       "      <td>Cisco</td>\n",
       "      <td>$51.904</td>\n",
       "      <td>75,900</td>\n",
       "      <td>683.84716</td>\n",
       "      <td>San Jose, California, US</td>\n",
       "    </tr>\n",
       "    <tr>\n",
       "      <th>18</th>\n",
       "      <td>18</td>\n",
       "      <td>Lenovo</td>\n",
       "      <td>$50.716</td>\n",
       "      <td>63,000</td>\n",
       "      <td>805.01587</td>\n",
       "      <td>Hong Kong, China[4]</td>\n",
       "    </tr>\n",
       "  </tbody>\n",
       "</table>\n",
       "</div>"
      ],
      "text/plain": [
       "    Rank              Company Revenue[USD $Billions] Employee  \\\n",
       "0   None                 None                   None     None   \n",
       "1      1                Apple               $260.174  137,000   \n",
       "2      2  Samsung Electronics               $197.705  287,439   \n",
       "3      3              Foxconn               $178.869  757,404   \n",
       "4      4             Alphabet               $161.857  118,899   \n",
       "5      5            Microsoft               $125.843  144,000   \n",
       "6      6               Huawei               $124.316  194,000   \n",
       "7      7    Dell Technologies                $92.154  165,000   \n",
       "8      8              Hitachi                $80.639  301,056   \n",
       "9      9                  IBM                $77.147  383,056   \n",
       "10    10                 Sony                $75.972  111,700   \n",
       "11    11                Intel                $71.965  110,800   \n",
       "12    12             Facebook                $70.697   44,942   \n",
       "13    13            Panasonic                $68.897  259,385   \n",
       "14    14              HP Inc.                $58.756   56,000   \n",
       "15    15              Tencent                $54.613   62,885   \n",
       "16    16       LG Electronics                $53.464   74,000   \n",
       "17    17                Cisco                $51.904   75,900   \n",
       "18    18               Lenovo                $50.716   63,000   \n",
       "\n",
       "   Revenue per Employee                   Headquarters  \n",
       "0                  None                           None  \n",
       "1            1899.08029      Cupertino, California, US  \n",
       "2              687.8155             Suwon, South Korea  \n",
       "3             236.16062        New Taipei City, Taiwan  \n",
       "4            1361.29824  Mountain View, California, US  \n",
       "5             873.90972        Redmond, Washington, US  \n",
       "6             640.80412                Shenzhen, China  \n",
       "7             558.50909          Round Rock, Texas, US  \n",
       "8             267.85382                   Tokyo, Japan  \n",
       "9             201.39875           Armonk, New York, US  \n",
       "10            680.14324                   Tokyo, Japan  \n",
       "11            649.50361    Santa Clara, California, US  \n",
       "12           1573.07195     Menlo Park, California, US  \n",
       "13            265.61674                   Osaka, Japan  \n",
       "14           1049.21428      Palo Alto, California, US  \n",
       "15            868.45829                Shenzhen, China  \n",
       "16            722.48648             Seoul, South Korea  \n",
       "17            683.84716       San Jose, California, US  \n",
       "18            805.01587            Hong Kong, China[4]  "
      ]
     },
     "execution_count": 110,
     "metadata": {},
     "output_type": "execute_result"
    }
   ],
   "source": [
    "df\n"
   ]
  },
  {
   "cell_type": "markdown",
   "id": "de16fcd3-2133-440a-8134-e0268f5e7bd0",
   "metadata": {},
   "source": [
    "<span style='font-size:20px;'>**Step 6C:** Remove the first row from the DataFrame</span>\n"
   ]
  },
  {
   "cell_type": "code",
   "execution_count": 87,
   "id": "3b15c267-f7ba-4cb1-bbd3-28fbe1bfb987",
   "metadata": {
    "tags": []
   },
   "outputs": [],
   "source": [
    "df.drop(0, axis=0, inplace=True)"
   ]
  },
  {
   "cell_type": "markdown",
   "id": "59f978de-95d1-43f9-bee1-a3d2c7adb85c",
   "metadata": {},
   "source": [
    "<span style='font-size:20px;'>**Step 6D:** Display The Dataframe</span>"
   ]
  },
  {
   "cell_type": "code",
   "execution_count": 111,
   "id": "23aa8b8f-df0b-4e54-8cc8-b4323aa49c88",
   "metadata": {
    "tags": []
   },
   "outputs": [
    {
     "data": {
      "text/html": [
       "<div>\n",
       "<style scoped>\n",
       "    .dataframe tbody tr th:only-of-type {\n",
       "        vertical-align: middle;\n",
       "    }\n",
       "\n",
       "    .dataframe tbody tr th {\n",
       "        vertical-align: top;\n",
       "    }\n",
       "\n",
       "    .dataframe thead th {\n",
       "        text-align: right;\n",
       "    }\n",
       "</style>\n",
       "<table border=\"1\" class=\"dataframe\">\n",
       "  <thead>\n",
       "    <tr style=\"text-align: right;\">\n",
       "      <th></th>\n",
       "      <th>Rank</th>\n",
       "      <th>Company</th>\n",
       "      <th>Revenue[USD $Billions]</th>\n",
       "      <th>Employee</th>\n",
       "      <th>Revenue per Employee</th>\n",
       "      <th>Headquarters</th>\n",
       "    </tr>\n",
       "  </thead>\n",
       "  <tbody>\n",
       "    <tr>\n",
       "      <th>0</th>\n",
       "      <td>None</td>\n",
       "      <td>None</td>\n",
       "      <td>None</td>\n",
       "      <td>None</td>\n",
       "      <td>None</td>\n",
       "      <td>None</td>\n",
       "    </tr>\n",
       "    <tr>\n",
       "      <th>1</th>\n",
       "      <td>1</td>\n",
       "      <td>Apple</td>\n",
       "      <td>$260.174</td>\n",
       "      <td>137,000</td>\n",
       "      <td>1899.08029</td>\n",
       "      <td>Cupertino, California, US</td>\n",
       "    </tr>\n",
       "    <tr>\n",
       "      <th>2</th>\n",
       "      <td>2</td>\n",
       "      <td>Samsung Electronics</td>\n",
       "      <td>$197.705</td>\n",
       "      <td>287,439</td>\n",
       "      <td>687.8155</td>\n",
       "      <td>Suwon, South Korea</td>\n",
       "    </tr>\n",
       "    <tr>\n",
       "      <th>3</th>\n",
       "      <td>3</td>\n",
       "      <td>Foxconn</td>\n",
       "      <td>$178.869</td>\n",
       "      <td>757,404</td>\n",
       "      <td>236.16062</td>\n",
       "      <td>New Taipei City, Taiwan</td>\n",
       "    </tr>\n",
       "    <tr>\n",
       "      <th>4</th>\n",
       "      <td>4</td>\n",
       "      <td>Alphabet</td>\n",
       "      <td>$161.857</td>\n",
       "      <td>118,899</td>\n",
       "      <td>1361.29824</td>\n",
       "      <td>Mountain View, California, US</td>\n",
       "    </tr>\n",
       "    <tr>\n",
       "      <th>5</th>\n",
       "      <td>5</td>\n",
       "      <td>Microsoft</td>\n",
       "      <td>$125.843</td>\n",
       "      <td>144,000</td>\n",
       "      <td>873.90972</td>\n",
       "      <td>Redmond, Washington, US</td>\n",
       "    </tr>\n",
       "    <tr>\n",
       "      <th>6</th>\n",
       "      <td>6</td>\n",
       "      <td>Huawei</td>\n",
       "      <td>$124.316</td>\n",
       "      <td>194,000</td>\n",
       "      <td>640.80412</td>\n",
       "      <td>Shenzhen, China</td>\n",
       "    </tr>\n",
       "    <tr>\n",
       "      <th>7</th>\n",
       "      <td>7</td>\n",
       "      <td>Dell Technologies</td>\n",
       "      <td>$92.154</td>\n",
       "      <td>165,000</td>\n",
       "      <td>558.50909</td>\n",
       "      <td>Round Rock, Texas, US</td>\n",
       "    </tr>\n",
       "    <tr>\n",
       "      <th>8</th>\n",
       "      <td>8</td>\n",
       "      <td>Hitachi</td>\n",
       "      <td>$80.639</td>\n",
       "      <td>301,056</td>\n",
       "      <td>267.85382</td>\n",
       "      <td>Tokyo, Japan</td>\n",
       "    </tr>\n",
       "    <tr>\n",
       "      <th>9</th>\n",
       "      <td>9</td>\n",
       "      <td>IBM</td>\n",
       "      <td>$77.147</td>\n",
       "      <td>383,056</td>\n",
       "      <td>201.39875</td>\n",
       "      <td>Armonk, New York, US</td>\n",
       "    </tr>\n",
       "    <tr>\n",
       "      <th>10</th>\n",
       "      <td>10</td>\n",
       "      <td>Sony</td>\n",
       "      <td>$75.972</td>\n",
       "      <td>111,700</td>\n",
       "      <td>680.14324</td>\n",
       "      <td>Tokyo, Japan</td>\n",
       "    </tr>\n",
       "    <tr>\n",
       "      <th>11</th>\n",
       "      <td>11</td>\n",
       "      <td>Intel</td>\n",
       "      <td>$71.965</td>\n",
       "      <td>110,800</td>\n",
       "      <td>649.50361</td>\n",
       "      <td>Santa Clara, California, US</td>\n",
       "    </tr>\n",
       "    <tr>\n",
       "      <th>12</th>\n",
       "      <td>12</td>\n",
       "      <td>Facebook</td>\n",
       "      <td>$70.697</td>\n",
       "      <td>44,942</td>\n",
       "      <td>1573.07195</td>\n",
       "      <td>Menlo Park, California, US</td>\n",
       "    </tr>\n",
       "    <tr>\n",
       "      <th>13</th>\n",
       "      <td>13</td>\n",
       "      <td>Panasonic</td>\n",
       "      <td>$68.897</td>\n",
       "      <td>259,385</td>\n",
       "      <td>265.61674</td>\n",
       "      <td>Osaka, Japan</td>\n",
       "    </tr>\n",
       "    <tr>\n",
       "      <th>14</th>\n",
       "      <td>14</td>\n",
       "      <td>HP Inc.</td>\n",
       "      <td>$58.756</td>\n",
       "      <td>56,000</td>\n",
       "      <td>1049.21428</td>\n",
       "      <td>Palo Alto, California, US</td>\n",
       "    </tr>\n",
       "    <tr>\n",
       "      <th>15</th>\n",
       "      <td>15</td>\n",
       "      <td>Tencent</td>\n",
       "      <td>$54.613</td>\n",
       "      <td>62,885</td>\n",
       "      <td>868.45829</td>\n",
       "      <td>Shenzhen, China</td>\n",
       "    </tr>\n",
       "    <tr>\n",
       "      <th>16</th>\n",
       "      <td>16</td>\n",
       "      <td>LG Electronics</td>\n",
       "      <td>$53.464</td>\n",
       "      <td>74,000</td>\n",
       "      <td>722.48648</td>\n",
       "      <td>Seoul, South Korea</td>\n",
       "    </tr>\n",
       "    <tr>\n",
       "      <th>17</th>\n",
       "      <td>17</td>\n",
       "      <td>Cisco</td>\n",
       "      <td>$51.904</td>\n",
       "      <td>75,900</td>\n",
       "      <td>683.84716</td>\n",
       "      <td>San Jose, California, US</td>\n",
       "    </tr>\n",
       "    <tr>\n",
       "      <th>18</th>\n",
       "      <td>18</td>\n",
       "      <td>Lenovo</td>\n",
       "      <td>$50.716</td>\n",
       "      <td>63,000</td>\n",
       "      <td>805.01587</td>\n",
       "      <td>Hong Kong, China[4]</td>\n",
       "    </tr>\n",
       "  </tbody>\n",
       "</table>\n",
       "</div>"
      ],
      "text/plain": [
       "    Rank              Company Revenue[USD $Billions] Employee  \\\n",
       "0   None                 None                   None     None   \n",
       "1      1                Apple               $260.174  137,000   \n",
       "2      2  Samsung Electronics               $197.705  287,439   \n",
       "3      3              Foxconn               $178.869  757,404   \n",
       "4      4             Alphabet               $161.857  118,899   \n",
       "5      5            Microsoft               $125.843  144,000   \n",
       "6      6               Huawei               $124.316  194,000   \n",
       "7      7    Dell Technologies                $92.154  165,000   \n",
       "8      8              Hitachi                $80.639  301,056   \n",
       "9      9                  IBM                $77.147  383,056   \n",
       "10    10                 Sony                $75.972  111,700   \n",
       "11    11                Intel                $71.965  110,800   \n",
       "12    12             Facebook                $70.697   44,942   \n",
       "13    13            Panasonic                $68.897  259,385   \n",
       "14    14              HP Inc.                $58.756   56,000   \n",
       "15    15              Tencent                $54.613   62,885   \n",
       "16    16       LG Electronics                $53.464   74,000   \n",
       "17    17                Cisco                $51.904   75,900   \n",
       "18    18               Lenovo                $50.716   63,000   \n",
       "\n",
       "   Revenue per Employee                   Headquarters  \n",
       "0                  None                           None  \n",
       "1            1899.08029      Cupertino, California, US  \n",
       "2              687.8155             Suwon, South Korea  \n",
       "3             236.16062        New Taipei City, Taiwan  \n",
       "4            1361.29824  Mountain View, California, US  \n",
       "5             873.90972        Redmond, Washington, US  \n",
       "6             640.80412                Shenzhen, China  \n",
       "7             558.50909          Round Rock, Texas, US  \n",
       "8             267.85382                   Tokyo, Japan  \n",
       "9             201.39875           Armonk, New York, US  \n",
       "10            680.14324                   Tokyo, Japan  \n",
       "11            649.50361    Santa Clara, California, US  \n",
       "12           1573.07195     Menlo Park, California, US  \n",
       "13            265.61674                   Osaka, Japan  \n",
       "14           1049.21428      Palo Alto, California, US  \n",
       "15            868.45829                Shenzhen, China  \n",
       "16            722.48648             Seoul, South Korea  \n",
       "17            683.84716       San Jose, California, US  \n",
       "18            805.01587            Hong Kong, China[4]  "
      ]
     },
     "execution_count": 111,
     "metadata": {},
     "output_type": "execute_result"
    }
   ],
   "source": [
    "df"
   ]
  },
  {
   "cell_type": "markdown",
   "id": "cf00b014-0632-4af5-b89e-5437f600a7c0",
   "metadata": {},
   "source": [
    "<span style='font-size:20px;'>**Step 7:** Save The DataFrame To a CSV_file </span>"
   ]
  },
  {
   "cell_type": "code",
   "execution_count": 112,
   "id": "3490895c-b924-40bd-9bc9-8b157663aca8",
   "metadata": {
    "tags": []
   },
   "outputs": [],
   "source": [
    "df.to_csv(\"2020_Ranking_Tech.csv\", index=False)\n",
    "\n",
    "\n",
    "\n"
   ]
  },
  {
   "cell_type": "markdown",
   "id": "407ed2b0-5262-4c3b-9934-8b5066de0d4f",
   "metadata": {},
   "source": [
    "<span style='font-size:20px;'>**Step 8:** Data Visualization</span>"
   ]
  },
  {
   "cell_type": "code",
   "execution_count": 117,
   "id": "a00f6a79-8bd4-41ef-878f-1ba1dc136518",
   "metadata": {
    "tags": []
   },
   "outputs": [
    {
     "data": {
      "image/png": "[encoded data removed]",
      "text/plain": [
       "<Figure size 1600x1000 with 1 Axes>"
      ]
     },
     "metadata": {},
     "output_type": "display_data"
    }
   ],
   "source": [
    "import matplotlib.pyplot as plt\n",
    "import seaborn as sns\n",
    "\n",
    "# Remove non-numeric characters from the 'Revenue[USD $Billions]' column\n",
    "df['Revenue[USD $Billions]'] = df['Revenue[USD $Billions]'].str.replace('[\\$,]', '', regex=True).astype(float)\n",
    "\n",
    "# Set the style of the plot\n",
    "sns.set(style=\"whitegrid\")\n",
    "\n",
    "# Set the figure size\n",
    "plt.figure(figsize=(16, 10))\n",
    "\n",
    "# Create a horizontal bar plot\n",
    "sns.barplot(x='Revenue[USD $Billions]', y='Company', data=df, palette=\"viridis\")\n",
    "\n",
    "# Customize labels and title\n",
    "plt.xlabel('Revenue (in USD Billions)')\n",
    "plt.ylabel('Company')\n",
    "plt.title('Tech Companies Rank List')\n",
    "\n",
    "# Show the horizontal bar chart\n",
    "plt.show()\n",
    "\n"
   ]
  },
  {
   "cell_type": "code",
   "execution_count": null,
   "id": "a6f24caf-9efa-4a78-ad17-7def2aec6197",
   "metadata": {},
   "outputs": [],
   "source": []
  }
 ],
 "metadata": {
  "kernelspec": {
   "display_name": "Python 3 (ipykernel)",
   "language": "python",
   "name": "python3"
  },
  "language_info": {
   "codemirror_mode": {
    "name": "ipython",
    "version": 3
   },
   "file_extension": ".py",
   "mimetype": "text/x-python",
   "name": "python",
   "nbconvert_exporter": "python",
   "pygments_lexer": "ipython3",
   "version": "3.11.4"
  }
 },
 "nbformat": 4,
 "nbformat_minor": 5
}
